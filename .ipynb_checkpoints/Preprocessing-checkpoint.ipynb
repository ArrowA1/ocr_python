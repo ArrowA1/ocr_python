{
 "cells": [
  {
   "cell_type": "markdown",
   "id": "be26bb78-84ef-4719-ba46-7c6c4e71a44b",
   "metadata": {},
   "source": [
    "# Preprocessing Images"
   ]
  },
  {
   "cell_type": "markdown",
   "id": "7c45939a-9564-4c39-9740-77e0fcd3b70c",
   "metadata": {
    "tags": []
   },
   "source": [
    "## 9 steps"
   ]
  },
  {
   "cell_type": "markdown",
   "id": "791b18ad-228d-44de-a565-3626c1989cae",
   "metadata": {},
   "source": [
    "1. Inverted Images\n",
    "2. Rescaling\n",
    "3. Binarization\n",
    "4. Noise Removal\n",
    "5. Dilation and Erosion\n",
    "6. Rotation / Deskewing\n",
    "7. Removing Borders\n",
    "8. Missing Borders\n",
    "9. Transparency / Alpha Channel"
   ]
  },
  {
   "cell_type": "code",
   "execution_count": null,
   "id": "e693b878-60f7-4141-a045-8cc833e9f7d2",
   "metadata": {},
   "outputs": [],
   "source": []
  }
 ],
 "metadata": {
  "kernelspec": {
   "display_name": "Python 3 (ipykernel)",
   "language": "python",
   "name": "python3"
  },
  "language_info": {
   "codemirror_mode": {
    "name": "ipython",
    "version": 3
   },
   "file_extension": ".py",
   "mimetype": "text/x-python",
   "name": "python",
   "nbconvert_exporter": "python",
   "pygments_lexer": "ipython3",
   "version": "3.10.5"
  }
 },
 "nbformat": 4,
 "nbformat_minor": 5
}
